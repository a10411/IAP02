{
 "cells": [
  {
   "cell_type": "code",
   "execution_count": 29,
   "id": "4f9c2369",
   "metadata": {
    "scrolled": false
   },
   "outputs": [],
   "source": [
    "import pandas as pd\n",
    "import numpy as np\n",
    "import datetime\n",
    "from sklearn.tree import DecisionTreeClassifier\n",
    "from sklearn.model_selection import train_test_split\n",
    "\n",
    "df = pd.read_csv('covid_data.csv')\n",
    "# remove fields here (?)"
   ]
  },
  {
   "cell_type": "code",
   "execution_count": 30,
   "id": "6a359ed7",
   "metadata": {},
   "outputs": [],
   "source": [
    "train, test = train_test_split(df, test_size=0.2, random_state=42, shuffle=True)\n",
    "#train\n",
    "#test"
   ]
  },
  {
   "cell_type": "code",
   "execution_count": 31,
   "id": "28e768a4",
   "metadata": {
    "scrolled": true
   },
   "outputs": [
    {
     "name": "stderr",
     "output_type": "stream",
     "text": [
      "C:\\Users\\duart\\AppData\\Local\\Temp\\ipykernel_1984\\4137699187.py:3: SettingWithCopyWarning: \n",
      "A value is trying to be set on a copy of a slice from a DataFrame\n",
      "\n",
      "See the caveats in the documentation: https://pandas.pydata.org/pandas-docs/stable/user_guide/indexing.html#returning-a-view-versus-a-copy\n",
      "  train['DIED'][df['DATE_DIED'] == \"9999-99-99\"] = 2\n",
      "C:\\Users\\duart\\AppData\\Local\\Programs\\Python\\Python310\\lib\\site-packages\\sklearn\\base.py:409: UserWarning: X does not have valid feature names, but DecisionTreeClassifier was fitted with feature names\n",
      "  warnings.warn(\n"
     ]
    },
    {
     "data": {
      "text/plain": [
       "array([1, 2, 2, 1, 1, 1], dtype=int64)"
      ]
     },
     "execution_count": 31,
     "metadata": {},
     "output_type": "execute_result"
    }
   ],
   "source": [
    "\n",
    "\n",
    "train['DIED'] = 1\n",
    "        \n",
    "train['DIED'][df['DATE_DIED'] == \"9999-99-99\"] = 2\n",
    "\n",
    "\n",
    "train.assign(TOBACCO=np.where(train.TOBACCO == 97, None, train.TOBACCO))\n",
    "train.assign(TOBACCO=np.where(train.TOBACCO == 99, None, train.TOBACCO))\n",
    "# remover todas onde nao ha info sobre tabaco! TODO\n",
    "\n",
    "train_y = train[['TOBACCO', 'AGE', 'PNEUMONIA', 'INTUBED', 'DIABETES', 'DIED']]\n",
    "X = train_y.drop(columns='DIED')\n",
    "Y = train_y['DIED']\n",
    "\n",
    "model = DecisionTreeClassifier()\n",
    "model.fit(X, Y)\n",
    "# df_y\n",
    "predictions = model.predict([[1, 70, 1, 1, 1], [2, 30, 2, 2, 1], [1, 50, 2, 2, 1], [1, 70, 2, 1, 1], [2, 80, 2, 1, 1], [2, 30, 2, 1, 1]])\n",
    "predictions"
   ]
  },
  {
   "cell_type": "code",
   "execution_count": null,
   "id": "13b1b687",
   "metadata": {},
   "outputs": [],
   "source": []
  }
 ],
 "metadata": {
  "kernelspec": {
   "display_name": "Python 3 (ipykernel)",
   "language": "python",
   "name": "python3"
  },
  "language_info": {
   "codemirror_mode": {
    "name": "ipython",
    "version": 3
   },
   "file_extension": ".py",
   "mimetype": "text/x-python",
   "name": "python",
   "nbconvert_exporter": "python",
   "pygments_lexer": "ipython3",
   "version": "3.10.0"
  }
 },
 "nbformat": 4,
 "nbformat_minor": 5
}
